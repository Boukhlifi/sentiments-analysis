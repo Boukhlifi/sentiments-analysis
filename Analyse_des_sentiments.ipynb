{
  "nbformat": 4,
  "nbformat_minor": 0,
  "metadata": {
    "colab": {
      "name": "Analyse_des_sentiments.ipynb",
      "provenance": [],
      "collapsed_sections": [],
      "authorship_tag": "ABX9TyOTfjMH/0v2DXOmOSh19ymR",
      "include_colab_link": true
    },
    "kernelspec": {
      "name": "python3",
      "display_name": "Python 3"
    },
    "accelerator": "GPU"
  },
  "cells": [
    {
      "cell_type": "markdown",
      "metadata": {
        "id": "view-in-github",
        "colab_type": "text"
      },
      "source": [
        "<a href=\"https://colab.research.google.com/github/Boukhlifi/sentiments-analysis/blob/main/Analyse_des_sentiments.ipynb\" target=\"_parent\"><img src=\"https://colab.research.google.com/assets/colab-badge.svg\" alt=\"Open In Colab\"/></a>"
      ]
    },
    {
      "cell_type": "code",
      "metadata": {
        "colab": {
          "base_uri": "https://localhost:8080/"
        },
        "id": "ZhZD3MdbUfRt",
        "outputId": "6a2e8953-3f8d-437d-c939-0d234b80cb27"
      },
      "source": [
        "pip install nltk"
      ],
      "execution_count": 2,
      "outputs": [
        {
          "output_type": "stream",
          "text": [
            "Requirement already satisfied: nltk in /usr/local/lib/python3.6/dist-packages (3.2.5)\n",
            "Requirement already satisfied: six in /usr/local/lib/python3.6/dist-packages (from nltk) (1.15.0)\n"
          ],
          "name": "stdout"
        }
      ]
    },
    {
      "cell_type": "code",
      "metadata": {
        "colab": {
          "base_uri": "https://localhost:8080/"
        },
        "id": "vy9MZ7dCc2VJ",
        "outputId": "1138f024-c5bb-4ac3-e81a-6574faadbb27"
      },
      "source": [
        "import pandas as pd\r\n",
        "import numpy as np\r\n",
        "import re\r\n",
        "import collections\r\n",
        "import matplotlib.pyplot as plt\r\n",
        "from pathlib import Path\r\n",
        "\r\n",
        "import nltk\r\n",
        "nltk.download('stopwords')\r\n",
        "from nltk.corpus import stopwords\r\n",
        "\r\n",
        "#les packages pour la preparation de data\r\n",
        "from sklearn.model_selection import train_test_split\r\n",
        "from keras.preprocessing.text import Tokenizer\r\n",
        "from keras.utils.np_utils import to_categorical\r\n",
        "from sklearn.preprocessing import LabelEncoder\r\n",
        "\r\n",
        "#les packages pour la modelisation\r\n",
        "from keras import models\r\n",
        "from keras import layers\r\n",
        "from keras import regularizers#pour la regularisation\r\n"
      ],
      "execution_count": 3,
      "outputs": [
        {
          "output_type": "stream",
          "text": [
            "[nltk_data] Downloading package stopwords to /root/nltk_data...\n",
            "[nltk_data]   Unzipping corpora/stopwords.zip.\n"
          ],
          "name": "stdout"
        }
      ]
    },
    {
      "cell_type": "code",
      "metadata": {
        "id": "ocb3XS09npjL"
      },
      "source": [
        "#je vais creer une fonction pour entrainer un modéle multiclasse,ou la sortie sera l'historique de l'entrainement du modéle\r\n",
        "def deep_model(model, x_train, y_train, x_valid, y_valid):\r\n",
        "  model.compile(optimizer = 'rmsprop',\r\n",
        "                loss= 'categorical_crossentropy',#car on a trois sentiments de la basse de données twits\r\n",
        "                metrics =['accuracy'])\r\n",
        "  history = model.fit(x_train,\r\n",
        "                      y_train,\r\n",
        "                      epochs=20,\r\n",
        "                      batch_size=512,\r\n",
        "                      validation_data=(x_valid,y_valid),\r\n",
        "                      verbose=0)\r\n",
        "  return history"
      ],
      "execution_count": 4,
      "outputs": []
    },
    {
      "cell_type": "code",
      "metadata": {
        "id": "8PfK99NwnplV"
      },
      "source": [
        "#lorsqu'on veut evaluer un modele,c'est apartir de son historique(soit val_acc et train_acc ou val_loss et train_loss)\r\n",
        "#donc cette fonction, vas nous afficher l'historique de val ou loss pour train et validation\r\n",
        "#pour savoir si mon modele a subit a un surapprentissage ou non,alors c'est pour detecter l'overfitting visuelement\r\n",
        "def eval_metric(model, history, metric_name):\r\n",
        "  metric = history.history[metric_name] #loss ou acc pour le train\r\n",
        "  val_metric = history.history['val_' + metric_name]#val_acc ou val_loss pour les données de validation\r\n",
        "  \r\n",
        "  e =range(1,21)#epochs+1\r\n",
        "  \r\n",
        "  plt.plot(e, metric, 'bo', label = 'train '+ metric_name)\r\n",
        "  plt.plot(e, val_metric, 'b', label = 'validation '+ metric_name)\r\n",
        "  plt.xlabel(\"nombre d'epochs\")\r\n",
        "  plt.ylabel(metric_name)\r\n",
        "  plt.title('comparing training and validation '+metric_name+' for '+model.name)\r\n",
        "  plt.legend()\r\n",
        "  plt.show()"
      ],
      "execution_count": 5,
      "outputs": []
    },
    {
      "cell_type": "code",
      "metadata": {
        "id": "EolaUQThnpoY"
      },
      "source": [
        "#d'apres la fonction deep_model qui nous retoune l'history,donc je vais faire sortir le meilleur epochs,\r\n",
        "#c'est celui qui vas me generer une valeur de loss minimale et une valeur de acc maximale\r\n",
        "#dans cette fonction on vas reentrainer notre modéle ,en s'arretant dans l'epochs le plus optimal cad qui va me doner le meilleur resultat\r\n",
        "#de loss pour val et train\r\n",
        "def test_model(model, x_train, y_train, x_test, y_test, epoch_stop):\r\n",
        "  model.fit(x_train,\r\n",
        "            y_train,\r\n",
        "            epochs= epoch_stop,\r\n",
        "            batch_size=512,\r\n",
        "            verbose=0)\r\n",
        "  results = model.evaluate(x_test,y_test)\r\n",
        "  print('test accuracy : {0:.2f}%'.format(results[1]*100))"
      ],
      "execution_count": 43,
      "outputs": []
    },
    {
      "cell_type": "code",
      "metadata": {
        "id": "brcUvkf1nppx"
      },
      "source": [
        "#cette fonction,va nous comprarer le modéle regularisé et non regularisé\r\n",
        "#il va nous afficher l'historique de acc ou loss pour le modéle regularisé et non regularisé\r\n",
        "def compare_models_by_metrics(model1, model2, model_hist1, model_hist2,metric):\r\n",
        "  metric_model_1 = model_hist1.history[metric]\r\n",
        "  metric_model_2 = model_hist2.history[metric]\r\n",
        "\r\n",
        "  e =range(1, 21)\r\n",
        "\r\n",
        "  metrics_dict = {\r\n",
        "      'acc' : 'Training Accuracy',\r\n",
        "      'loss' : 'Training loss',\r\n",
        "      'val_acc' : 'Validation Accuracy',\r\n",
        "      'val_loss' : 'Validation loss'}\r\n",
        "\r\n",
        "  metric_label = metrics_dict[metric]\r\n",
        "\r\n",
        "  plt.plot(e, metric_model_1, 'ro', label = model1.name)#rouge pointié\r\n",
        "  plt.plot(e, metric_model_2, 'r', label = model2.name)\r\n",
        "  plt.xlabel(\"nombre d'epochs\")\r\n",
        "  plt.ylabel(metric_label)\r\n",
        "  plt.title('comparing '+metric_label+' between '+ model1.name +' and ' + model2.name)\r\n",
        "  plt.legend()\r\n",
        "  plt.show()\r\n",
        "\r\n"
      ],
      "execution_count": 7,
      "outputs": []
    },
    {
      "cell_type": "code",
      "metadata": {
        "id": "ieXIldbOnptP"
      },
      "source": [
        "#cette fonction ,il vas nous retouner l'epoch le plus optimale,qui a une veleur minimal de loss\r\n",
        "def optimal_epochs(model_hist):\r\n",
        "  min_epoch = np.argmin(model_hist.history['val_loss']) + 1\r\n",
        "  print(\"l'epochs le plus optimale est : {}\".format(min_epoch))\r\n",
        "  return min_epoch"
      ],
      "execution_count": 8,
      "outputs": []
    },
    {
      "cell_type": "code",
      "metadata": {
        "id": "6eIIF4IbnpvP"
      },
      "source": [
        "#cette fonction c'est pour supprimer les mots les plus fréquents dans une langue,\r\n",
        "#je veus supprimer ces mots car je ne veux pas que ves mots prennenet de la place dans mon basse de données \r\n",
        "#ou prennent un temps de traitement précieux,et ils ne vont pas nous donner une information sur le sentiments\r\n",
        "def remove_stopwords(input_text):\r\n",
        "  stopwords_list = stopwords.words('english')#cette fonction c'est pour nous generer les mots les plus fréquents dans une langue\r\n",
        "  whitelist = [\"n't\", \"not\", \"no\"]#je vais laisser ces mots qui seront utuls pour l'analyses des sentiments\r\n",
        "  words =input_text.split()\r\n",
        "  clean_words = [word for word in words if (word not in stopwords_list or word in whitelist) and len(word) > 1]\r\n",
        "  return ' '.join(clean_words)"
      ],
      "execution_count": 9,
      "outputs": []
    },
    {
      "cell_type": "code",
      "metadata": {
        "id": "W7uGTVdrbaQb"
      },
      "source": [
        "#les experions regulieres qui sont des shemas utulisés pour effectuer des recherches et des remplacemnts dans des chaines de caractéres\r\n",
        "#pourque le modele construite soit réalisé dans notre airline\r\n",
        "def remove_mentions(input_text):\r\n",
        "  return re.sub(r'@\\w+','',input_text)#il va enlever toutes la mention,toutes les chaines liés a @"
      ],
      "execution_count": 10,
      "outputs": []
    },
    {
      "cell_type": "code",
      "metadata": {
        "id": "kkYe-upgbabn"
      },
      "source": [
        "#La base de données est téléchargé du site Kaggle [Twitter US Airline Sentiment de Kaggle]\r\n",
        "#https://www.kaggle.com/crowdflower/twitter-airline-sentiment"
      ],
      "execution_count": 11,
      "outputs": []
    },
    {
      "cell_type": "code",
      "metadata": {
        "colab": {
          "base_uri": "https://localhost:8080/"
        },
        "id": "GR6dzSzfbanW",
        "outputId": "e0ab1d1c-f489-4763-b8c8-48bd5e2f5b42"
      },
      "source": [
        "from google.colab import drive\r\n",
        "drive.mount('/content/drive')"
      ],
      "execution_count": 12,
      "outputs": [
        {
          "output_type": "stream",
          "text": [
            "Mounted at /content/drive\n"
          ],
          "name": "stdout"
        }
      ]
    },
    {
      "cell_type": "code",
      "metadata": {
        "colab": {
          "base_uri": "https://localhost:8080/",
          "height": 921
        },
        "id": "1NnuLUWGrJe1",
        "outputId": "8e3fae2d-7c94-474c-a50f-6e899f9f0716"
      },
      "source": [
        "df = pd.read_csv('/content/drive/My Drive/Colab Notebooks/Tweets.csv')\r\n",
        "df"
      ],
      "execution_count": 13,
      "outputs": [
        {
          "output_type": "execute_result",
          "data": {
            "text/html": [
              "<div>\n",
              "<style scoped>\n",
              "    .dataframe tbody tr th:only-of-type {\n",
              "        vertical-align: middle;\n",
              "    }\n",
              "\n",
              "    .dataframe tbody tr th {\n",
              "        vertical-align: top;\n",
              "    }\n",
              "\n",
              "    .dataframe thead th {\n",
              "        text-align: right;\n",
              "    }\n",
              "</style>\n",
              "<table border=\"1\" class=\"dataframe\">\n",
              "  <thead>\n",
              "    <tr style=\"text-align: right;\">\n",
              "      <th></th>\n",
              "      <th>tweet_id</th>\n",
              "      <th>airline_sentiment</th>\n",
              "      <th>airline_sentiment_confidence</th>\n",
              "      <th>negativereason</th>\n",
              "      <th>negativereason_confidence</th>\n",
              "      <th>airline</th>\n",
              "      <th>airline_sentiment_gold</th>\n",
              "      <th>name</th>\n",
              "      <th>negativereason_gold</th>\n",
              "      <th>retweet_count</th>\n",
              "      <th>text</th>\n",
              "      <th>tweet_coord</th>\n",
              "      <th>tweet_created</th>\n",
              "      <th>tweet_location</th>\n",
              "      <th>user_timezone</th>\n",
              "    </tr>\n",
              "  </thead>\n",
              "  <tbody>\n",
              "    <tr>\n",
              "      <th>0</th>\n",
              "      <td>570306133677760513</td>\n",
              "      <td>neutral</td>\n",
              "      <td>1.0000</td>\n",
              "      <td>NaN</td>\n",
              "      <td>NaN</td>\n",
              "      <td>Virgin America</td>\n",
              "      <td>NaN</td>\n",
              "      <td>cairdin</td>\n",
              "      <td>NaN</td>\n",
              "      <td>0</td>\n",
              "      <td>@VirginAmerica What @dhepburn said.</td>\n",
              "      <td>NaN</td>\n",
              "      <td>2015-02-24 11:35:52 -0800</td>\n",
              "      <td>NaN</td>\n",
              "      <td>Eastern Time (US &amp; Canada)</td>\n",
              "    </tr>\n",
              "    <tr>\n",
              "      <th>1</th>\n",
              "      <td>570301130888122368</td>\n",
              "      <td>positive</td>\n",
              "      <td>0.3486</td>\n",
              "      <td>NaN</td>\n",
              "      <td>0.0000</td>\n",
              "      <td>Virgin America</td>\n",
              "      <td>NaN</td>\n",
              "      <td>jnardino</td>\n",
              "      <td>NaN</td>\n",
              "      <td>0</td>\n",
              "      <td>@VirginAmerica plus you've added commercials t...</td>\n",
              "      <td>NaN</td>\n",
              "      <td>2015-02-24 11:15:59 -0800</td>\n",
              "      <td>NaN</td>\n",
              "      <td>Pacific Time (US &amp; Canada)</td>\n",
              "    </tr>\n",
              "    <tr>\n",
              "      <th>2</th>\n",
              "      <td>570301083672813571</td>\n",
              "      <td>neutral</td>\n",
              "      <td>0.6837</td>\n",
              "      <td>NaN</td>\n",
              "      <td>NaN</td>\n",
              "      <td>Virgin America</td>\n",
              "      <td>NaN</td>\n",
              "      <td>yvonnalynn</td>\n",
              "      <td>NaN</td>\n",
              "      <td>0</td>\n",
              "      <td>@VirginAmerica I didn't today... Must mean I n...</td>\n",
              "      <td>NaN</td>\n",
              "      <td>2015-02-24 11:15:48 -0800</td>\n",
              "      <td>Lets Play</td>\n",
              "      <td>Central Time (US &amp; Canada)</td>\n",
              "    </tr>\n",
              "    <tr>\n",
              "      <th>3</th>\n",
              "      <td>570301031407624196</td>\n",
              "      <td>negative</td>\n",
              "      <td>1.0000</td>\n",
              "      <td>Bad Flight</td>\n",
              "      <td>0.7033</td>\n",
              "      <td>Virgin America</td>\n",
              "      <td>NaN</td>\n",
              "      <td>jnardino</td>\n",
              "      <td>NaN</td>\n",
              "      <td>0</td>\n",
              "      <td>@VirginAmerica it's really aggressive to blast...</td>\n",
              "      <td>NaN</td>\n",
              "      <td>2015-02-24 11:15:36 -0800</td>\n",
              "      <td>NaN</td>\n",
              "      <td>Pacific Time (US &amp; Canada)</td>\n",
              "    </tr>\n",
              "    <tr>\n",
              "      <th>4</th>\n",
              "      <td>570300817074462722</td>\n",
              "      <td>negative</td>\n",
              "      <td>1.0000</td>\n",
              "      <td>Can't Tell</td>\n",
              "      <td>1.0000</td>\n",
              "      <td>Virgin America</td>\n",
              "      <td>NaN</td>\n",
              "      <td>jnardino</td>\n",
              "      <td>NaN</td>\n",
              "      <td>0</td>\n",
              "      <td>@VirginAmerica and it's a really big bad thing...</td>\n",
              "      <td>NaN</td>\n",
              "      <td>2015-02-24 11:14:45 -0800</td>\n",
              "      <td>NaN</td>\n",
              "      <td>Pacific Time (US &amp; Canada)</td>\n",
              "    </tr>\n",
              "    <tr>\n",
              "      <th>...</th>\n",
              "      <td>...</td>\n",
              "      <td>...</td>\n",
              "      <td>...</td>\n",
              "      <td>...</td>\n",
              "      <td>...</td>\n",
              "      <td>...</td>\n",
              "      <td>...</td>\n",
              "      <td>...</td>\n",
              "      <td>...</td>\n",
              "      <td>...</td>\n",
              "      <td>...</td>\n",
              "      <td>...</td>\n",
              "      <td>...</td>\n",
              "      <td>...</td>\n",
              "      <td>...</td>\n",
              "    </tr>\n",
              "    <tr>\n",
              "      <th>14635</th>\n",
              "      <td>569587686496825344</td>\n",
              "      <td>positive</td>\n",
              "      <td>0.3487</td>\n",
              "      <td>NaN</td>\n",
              "      <td>0.0000</td>\n",
              "      <td>American</td>\n",
              "      <td>NaN</td>\n",
              "      <td>KristenReenders</td>\n",
              "      <td>NaN</td>\n",
              "      <td>0</td>\n",
              "      <td>@AmericanAir thank you we got on a different f...</td>\n",
              "      <td>NaN</td>\n",
              "      <td>2015-02-22 12:01:01 -0800</td>\n",
              "      <td>NaN</td>\n",
              "      <td>NaN</td>\n",
              "    </tr>\n",
              "    <tr>\n",
              "      <th>14636</th>\n",
              "      <td>569587371693355008</td>\n",
              "      <td>negative</td>\n",
              "      <td>1.0000</td>\n",
              "      <td>Customer Service Issue</td>\n",
              "      <td>1.0000</td>\n",
              "      <td>American</td>\n",
              "      <td>NaN</td>\n",
              "      <td>itsropes</td>\n",
              "      <td>NaN</td>\n",
              "      <td>0</td>\n",
              "      <td>@AmericanAir leaving over 20 minutes Late Flig...</td>\n",
              "      <td>NaN</td>\n",
              "      <td>2015-02-22 11:59:46 -0800</td>\n",
              "      <td>Texas</td>\n",
              "      <td>NaN</td>\n",
              "    </tr>\n",
              "    <tr>\n",
              "      <th>14637</th>\n",
              "      <td>569587242672398336</td>\n",
              "      <td>neutral</td>\n",
              "      <td>1.0000</td>\n",
              "      <td>NaN</td>\n",
              "      <td>NaN</td>\n",
              "      <td>American</td>\n",
              "      <td>NaN</td>\n",
              "      <td>sanyabun</td>\n",
              "      <td>NaN</td>\n",
              "      <td>0</td>\n",
              "      <td>@AmericanAir Please bring American Airlines to...</td>\n",
              "      <td>NaN</td>\n",
              "      <td>2015-02-22 11:59:15 -0800</td>\n",
              "      <td>Nigeria,lagos</td>\n",
              "      <td>NaN</td>\n",
              "    </tr>\n",
              "    <tr>\n",
              "      <th>14638</th>\n",
              "      <td>569587188687634433</td>\n",
              "      <td>negative</td>\n",
              "      <td>1.0000</td>\n",
              "      <td>Customer Service Issue</td>\n",
              "      <td>0.6659</td>\n",
              "      <td>American</td>\n",
              "      <td>NaN</td>\n",
              "      <td>SraJackson</td>\n",
              "      <td>NaN</td>\n",
              "      <td>0</td>\n",
              "      <td>@AmericanAir you have my money, you change my ...</td>\n",
              "      <td>NaN</td>\n",
              "      <td>2015-02-22 11:59:02 -0800</td>\n",
              "      <td>New Jersey</td>\n",
              "      <td>Eastern Time (US &amp; Canada)</td>\n",
              "    </tr>\n",
              "    <tr>\n",
              "      <th>14639</th>\n",
              "      <td>569587140490866689</td>\n",
              "      <td>neutral</td>\n",
              "      <td>0.6771</td>\n",
              "      <td>NaN</td>\n",
              "      <td>0.0000</td>\n",
              "      <td>American</td>\n",
              "      <td>NaN</td>\n",
              "      <td>daviddtwu</td>\n",
              "      <td>NaN</td>\n",
              "      <td>0</td>\n",
              "      <td>@AmericanAir we have 8 ppl so we need 2 know h...</td>\n",
              "      <td>NaN</td>\n",
              "      <td>2015-02-22 11:58:51 -0800</td>\n",
              "      <td>dallas, TX</td>\n",
              "      <td>NaN</td>\n",
              "    </tr>\n",
              "  </tbody>\n",
              "</table>\n",
              "<p>14640 rows × 15 columns</p>\n",
              "</div>"
            ],
            "text/plain": [
              "                 tweet_id  ...               user_timezone\n",
              "0      570306133677760513  ...  Eastern Time (US & Canada)\n",
              "1      570301130888122368  ...  Pacific Time (US & Canada)\n",
              "2      570301083672813571  ...  Central Time (US & Canada)\n",
              "3      570301031407624196  ...  Pacific Time (US & Canada)\n",
              "4      570300817074462722  ...  Pacific Time (US & Canada)\n",
              "...                   ...  ...                         ...\n",
              "14635  569587686496825344  ...                         NaN\n",
              "14636  569587371693355008  ...                         NaN\n",
              "14637  569587242672398336  ...                         NaN\n",
              "14638  569587188687634433  ...  Eastern Time (US & Canada)\n",
              "14639  569587140490866689  ...                         NaN\n",
              "\n",
              "[14640 rows x 15 columns]"
            ]
          },
          "metadata": {
            "tags": []
          },
          "execution_count": 13
        }
      ]
    },
    {
      "cell_type": "code",
      "metadata": {
        "id": "4aop5r6_rJnl"
      },
      "source": [
        "#pour moi ce qui m'intersse plus c'est le text et le sentiments\r\n",
        "#je vais faire une permutation aléatoire selon l'indice pour avoir les trois sentiments dans la separation split\r\n",
        "df = df.reindex(np.random.permutation(df.index))\r\n",
        "df =df[['text', 'airline_sentiment']]\r\n",
        "df.text = df.text.apply(remove_stopwords).apply(remove_mentions)\r\n"
      ],
      "execution_count": 14,
      "outputs": []
    },
    {
      "cell_type": "code",
      "metadata": {
        "colab": {
          "base_uri": "https://localhost:8080/"
        },
        "id": "yOX_l20DrJyu",
        "outputId": "89455f47-36e7-4940-ae1e-06d30b19c54b"
      },
      "source": [
        "x_train, x_test, y_train, y_test =train_test_split(df.text,df.airline_sentiment, test_size =0.1, random_state=42)\r\n",
        "print('train data : ',x_train.shape[0])\r\n",
        "print('test data : ',x_test.shape[0])"
      ],
      "execution_count": 15,
      "outputs": [
        {
          "output_type": "stream",
          "text": [
            "train data :  13176\n",
            "test data :  1464\n"
          ],
          "name": "stdout"
        }
      ]
    },
    {
      "cell_type": "code",
      "metadata": {
        "id": "sgDLdb0Hnpy9",
        "colab": {
          "base_uri": "https://localhost:8080/"
        },
        "outputId": "2ce7fdda-f1b6-4317-adbe-5f057b7c9ab3"
      },
      "source": [
        "max_len =20 # le nombre des mots dans une sequence\r\n",
        "tk =Tokenizer(num_words= 10000,#un nombre maximum a conservé dans un dictionnaire\r\n",
        "              filters='!\"#$%&()*+,-./:;<=>?@[\\\\]^_`{|}~\\t\\n',#les caractéres qui seront filtrés du text\r\n",
        "              lower = True,\r\n",
        "              char_level = False,#si true tous les carateres seront traité comme un tokens\r\n",
        "              split = ' '#split pour la devision des mots\r\n",
        "              )\r\n",
        "tk.fit_on_texts(x_train)\r\n",
        "\r\n",
        "print(\"appliqueation de tokenize sur {} documents.\".format(tk.document_count))#la taille de mon x_train\r\n",
        "print(\"{} words in dictionnary.\".format(tk.num_words))\r\n",
        "print('les 5 mots les plus repétés sont : {}'.format(collections.Counter(tk.word_counts).most_common(10)))\r\n"
      ],
      "execution_count": 16,
      "outputs": [
        {
          "output_type": "stream",
          "text": [
            "appliqueation de tokenize sur 13176 documents.\n",
            "10000 words in dictionnary.\n",
            "les 5 mots les plus repétés sont : [('flight', 3518), ('not', 1428), ('no', 1369), ('get', 1201), ('t', 1075), ('co', 1069), ('http', 1019), ('thanks', 962), ('cancelled', 949), ('service', 856)]\n"
          ],
          "name": "stdout"
        }
      ]
    },
    {
      "cell_type": "code",
      "metadata": {
        "id": "E_NhVYxf5Thd"
      },
      "source": [
        "#l'indice de chaque mot\r\n",
        "#print(tk.word_index)"
      ],
      "execution_count": 48,
      "outputs": []
    },
    {
      "cell_type": "code",
      "metadata": {
        "colab": {
          "base_uri": "https://localhost:8080/"
        },
        "id": "Cn0llbF65Tve",
        "outputId": "752756b9-f4ba-4100-9c88-af8d42368c84"
      },
      "source": [
        "#apres avoir creer le dictionnaire,nous pouvons mnt convertir le text d'un tweets a un vecteur binaire de taille 10000\r\n",
        "x_train_oh = tk.texts_to_matrix(x_train,mode='binary')\r\n",
        "x_test_oh = tk.texts_to_matrix(x_test,mode='binary')\r\n",
        "print(x_train_oh.shape)"
      ],
      "execution_count": 18,
      "outputs": [
        {
          "output_type": "stream",
          "text": [
            "(13176, 10000)\n"
          ],
          "name": "stdout"
        }
      ]
    },
    {
      "cell_type": "code",
      "metadata": {
        "colab": {
          "base_uri": "https://localhost:8080/"
        },
        "id": "Lmpj5nwz5TxY",
        "outputId": "2b8193d8-45e9-47a6-e975-37c0a9f76c89"
      },
      "source": [
        "#convertir les labels des classes en un vecteur de taille 3\r\n",
        "le = LabelEncoder()\r\n",
        "y_train_le = le.fit_transform(y_train)#pour le transformer a un chiffre\r\n",
        "y_test_le = le.fit_transform(y_test)\r\n",
        "y_train_oh = to_categorical(y_train_le)\r\n",
        "y_test_oh = to_categorical(y_test_le)\r\n",
        "\r\n",
        "print('\"{}\" is converted into {}'.format(y_train[0], y_train_le[0]))\r\n",
        "print('\"{}\" is converted into {}'.format(y_train_le[0], y_train_oh[0]))"
      ],
      "execution_count": 19,
      "outputs": [
        {
          "output_type": "stream",
          "text": [
            "\"neutral\" is converted into 1\n",
            "\"1\" is converted into [0. 1. 0.]\n"
          ],
          "name": "stdout"
        }
      ]
    },
    {
      "cell_type": "code",
      "metadata": {
        "colab": {
          "base_uri": "https://localhost:8080/"
        },
        "id": "NmF6pH-15T1R",
        "outputId": "4ecdde94-5519-45fb-a875-00ca7bc6759e"
      },
      "source": [
        "x_train_rest, x_valid, y_train_rest, y_valid = train_test_split(x_train_oh,y_train_oh, test_size =0.1, random_state=42)\r\n",
        "assert x_train_rest.shape[0] == y_train_rest.shape[0]\r\n",
        "assert x_test.shape[0] == y_test.shape[0]\r\n",
        "print(\"validation data est : \",x_valid.shape)"
      ],
      "execution_count": 20,
      "outputs": [
        {
          "output_type": "stream",
          "text": [
            "validation data est :  (1318, 10000)\n"
          ],
          "name": "stdout"
        }
      ]
    },
    {
      "cell_type": "code",
      "metadata": {
        "colab": {
          "base_uri": "https://localhost:8080/"
        },
        "id": "jhLxnJwHMEr_",
        "outputId": "e1472525-0573-40c2-c404-7531d580716c"
      },
      "source": [
        "NB_WORDS=10000\r\n",
        "base_model = models.Sequential()\r\n",
        "base_model.add(layers.Dense(64, activation='relu', input_shape=(NB_WORDS,)))\r\n",
        "base_model.add(layers.Dense(64, activation='relu'))\r\n",
        "base_model.add(layers.Dense(3, activation='softmax'))\r\n",
        "base_model._name = \"Baseline_model\"\r\n",
        "base_model.summary()\r\n",
        "#(10000+1) * 64= 640064 \r\n",
        "#(64 + 1) * 64 = 4160\r\n",
        "#(64 + 1) *  3 = 195 "
      ],
      "execution_count": 21,
      "outputs": [
        {
          "output_type": "stream",
          "text": [
            "Model: \"Baseline_model\"\n",
            "_________________________________________________________________\n",
            "Layer (type)                 Output Shape              Param #   \n",
            "=================================================================\n",
            "dense (Dense)                (None, 64)                640064    \n",
            "_________________________________________________________________\n",
            "dense_1 (Dense)              (None, 64)                4160      \n",
            "_________________________________________________________________\n",
            "dense_2 (Dense)              (None, 3)                 195       \n",
            "=================================================================\n",
            "Total params: 644,419\n",
            "Trainable params: 644,419\n",
            "Non-trainable params: 0\n",
            "_________________________________________________________________\n"
          ],
          "name": "stdout"
        }
      ]
    },
    {
      "cell_type": "code",
      "metadata": {
        "colab": {
          "base_uri": "https://localhost:8080/"
        },
        "id": "pRiRWDt4ME3x",
        "outputId": "c10c4294-3448-4672-928b-c99164bdfae4"
      },
      "source": [
        "base_hitory = deep_model(base_model, x_train_rest, y_train_rest, x_valid, y_valid)\r\n",
        "base_epoch_min  = optimal_epochs(base_hitory)\r\n",
        "#apres le premier epoch ,le modele a subit a une sur apprentissage"
      ],
      "execution_count": 22,
      "outputs": [
        {
          "output_type": "stream",
          "text": [
            "l'epochs le plus optimale est : 3\n"
          ],
          "name": "stdout"
        }
      ]
    },
    {
      "cell_type": "code",
      "metadata": {
        "colab": {
          "base_uri": "https://localhost:8080/",
          "height": 295
        },
        "id": "J0vh4s5e0zM2",
        "outputId": "b5b28cbf-84f4-46bf-e70c-e36ec1b31a9f"
      },
      "source": [
        "eval_metric(base_model, base_hitory, 'loss')\r\n",
        "#d'apres ce plot,on voit bien que le modéle a subit a une sur apprentisage,donc le modele et plus complexe que les données"
      ],
      "execution_count": 23,
      "outputs": [
        {
          "output_type": "display_data",
          "data": {
            "image/png": "[encoded data removed]",
            "text/plain": [
              "<Figure size 432x288 with 1 Axes>"
            ]
          },
          "metadata": {
            "tags": [],
            "needs_background": "light"
          }
        }
      ]
    },
    {
      "cell_type": "code",
      "metadata": {
        "colab": {
          "base_uri": "https://localhost:8080/"
        },
        "id": "jUBXg-DdYGYd",
        "outputId": "0f0fd0ff-3701-4191-df03-dc8d34330c55"
      },
      "source": [
        "#1ere option: poreduire la capacité du modéle\r\n",
        "reduced_model = models.Sequential()\r\n",
        "reduced_model.add(layers.Dense(16, activation='relu', input_shape=(NB_WORDS,)))\r\n",
        "reduced_model.add(layers.Dense(3, activation='softmax'))\r\n",
        "reduced_model._name = \"Reduced_model\"\r\n",
        "reduced_model.summary()"
      ],
      "execution_count": 24,
      "outputs": [
        {
          "output_type": "stream",
          "text": [
            "Model: \"Reduced_model\"\n",
            "_________________________________________________________________\n",
            "Layer (type)                 Output Shape              Param #   \n",
            "=================================================================\n",
            "dense_3 (Dense)              (None, 16)                160016    \n",
            "_________________________________________________________________\n",
            "dense_4 (Dense)              (None, 3)                 51        \n",
            "=================================================================\n",
            "Total params: 160,067\n",
            "Trainable params: 160,067\n",
            "Non-trainable params: 0\n",
            "_________________________________________________________________\n"
          ],
          "name": "stdout"
        }
      ]
    },
    {
      "cell_type": "code",
      "metadata": {
        "colab": {
          "base_uri": "https://localhost:8080/"
        },
        "id": "iK03UvNsYGih",
        "outputId": "d0b59fe0-8ca9-4415-825e-5172733e7639"
      },
      "source": [
        "reduced_hitory = deep_model(reduced_model, x_train_rest, y_train_rest, x_valid, y_valid)\r\n",
        "reduced_epoch_min  = optimal_epochs(reduced_hitory)\r\n",
        "#donc il faut plus d'epochs pour avant que le modéle reduit ne commence a sur apprentisage"
      ],
      "execution_count": 25,
      "outputs": [
        {
          "output_type": "stream",
          "text": [
            "l'epochs le plus optimale est : 12\n"
          ],
          "name": "stdout"
        }
      ]
    },
    {
      "cell_type": "code",
      "metadata": {
        "colab": {
          "base_uri": "https://localhost:8080/",
          "height": 295
        },
        "id": "EkdPzU6CZ3QK",
        "outputId": "9ee53e50-e0c7-4448-8fa5-00858a393229"
      },
      "source": [
        "eval_metric(reduced_model, reduced_hitory, 'loss')"
      ],
      "execution_count": 26,
      "outputs": [
        {
          "output_type": "display_data",
          "data": {
            "image/png": "[encoded data removed]",
            "text/plain": [
              "<Figure size 432x288 with 1 Axes>"
            ]
          },
          "metadata": {
            "tags": [],
            "needs_background": "light"
          }
        }
      ]
    },
    {
      "cell_type": "code",
      "metadata": {
        "colab": {
          "base_uri": "https://localhost:8080/",
          "height": 295
        },
        "id": "JpmkVVL7Z3bt",
        "outputId": "0da99f26-0de7-482e-d4b5-03cd7e81377e"
      },
      "source": [
        "#on veut comparer le loss de validation pour les  deux models\r\n",
        "compare_models_by_metrics(base_model, reduced_model, base_hitory, reduced_hitory,'val_loss')\r\n",
        "#on remarque que la valeur de loss pour reduced_model et plus petite que base_model\r\n",
        "#et pour le reduced_model l'overfittion a éte commencé jusqu'a epoch 12 ,pas comme base modele ,l'epoch 3 "
      ],
      "execution_count": 27,
      "outputs": [
        {
          "output_type": "display_data",
          "data": {
            "image/png": "[encoded data removed]",
            "text/plain": [
              "<Figure size 432x288 with 1 Axes>"
            ]
          },
          "metadata": {
            "tags": [],
            "needs_background": "light"
          }
        }
      ]
    },
    {
      "cell_type": "code",
      "metadata": {
        "colab": {
          "base_uri": "https://localhost:8080/"
        },
        "id": "X4fNFW1UZ3i4",
        "outputId": "c7663333-9991-4988-94b3-2d3bec8daaf9"
      },
      "source": [
        "#2eme option: la regularisation l2\r\n",
        "regularized_model = models.Sequential()\r\n",
        "regularized_model.add(layers.Dense(64,kernel_regularizer=regularizers.l2(0.001) ,activation='relu', input_shape=(NB_WORDS,)))\r\n",
        "regularized_model.add(layers.Dense(64,kernel_regularizer=regularizers.l2(0.001) , activation='relu'))\r\n",
        "regularized_model.add(layers.Dense(3, activation='softmax'))\r\n",
        "regularized_model._name = \"l2_regularization_model\"\r\n",
        "regularized_model.summary()"
      ],
      "execution_count": 28,
      "outputs": [
        {
          "output_type": "stream",
          "text": [
            "Model: \"l2_regularization_model\"\n",
            "_________________________________________________________________\n",
            "Layer (type)                 Output Shape              Param #   \n",
            "=================================================================\n",
            "dense_5 (Dense)              (None, 64)                640064    \n",
            "_________________________________________________________________\n",
            "dense_6 (Dense)              (None, 64)                4160      \n",
            "_________________________________________________________________\n",
            "dense_7 (Dense)              (None, 3)                 195       \n",
            "=================================================================\n",
            "Total params: 644,419\n",
            "Trainable params: 644,419\n",
            "Non-trainable params: 0\n",
            "_________________________________________________________________\n"
          ],
          "name": "stdout"
        }
      ]
    },
    {
      "cell_type": "code",
      "metadata": {
        "colab": {
          "base_uri": "https://localhost:8080/"
        },
        "id": "U7J1HWSrdN9q",
        "outputId": "061a209e-107a-46a5-9418-4244d74d1156"
      },
      "source": [
        "regularized_hitory = deep_model(regularized_model, x_train_rest, y_train_rest, x_valid, y_valid)\r\n",
        "regularized_epoch_min  = optimal_epochs(regularized_hitory)"
      ],
      "execution_count": 29,
      "outputs": [
        {
          "output_type": "stream",
          "text": [
            "l'epochs le plus optimale est : 3\n"
          ],
          "name": "stdout"
        }
      ]
    },
    {
      "cell_type": "code",
      "metadata": {
        "colab": {
          "base_uri": "https://localhost:8080/",
          "height": 295
        },
        "id": "CfLZpzOpdOKx",
        "outputId": "a33c67f6-3eba-46a1-dbe5-395908aa79e0"
      },
      "source": [
        "eval_metric(regularized_model, regularized_hitory, 'loss')\r\n",
        "#on remarque que la regularisation l2 n'as pas pu bien regularisé notre modéle"
      ],
      "execution_count": 30,
      "outputs": [
        {
          "output_type": "display_data",
          "data": {
            "image/png": "[encoded data removed]",
            "text/plain": [
              "<Figure size 432x288 with 1 Axes>"
            ]
          },
          "metadata": {
            "tags": [],
            "needs_background": "light"
          }
        }
      ]
    },
    {
      "cell_type": "code",
      "metadata": {
        "colab": {
          "base_uri": "https://localhost:8080/",
          "height": 295
        },
        "id": "PshHJelpdOU1",
        "outputId": "23da1e68-45d5-414e-9477-d4cb5b6efc69"
      },
      "source": [
        "compare_models_by_metrics(base_model, regularized_model, base_hitory, regularized_hitory,'val_loss')"
      ],
      "execution_count": 31,
      "outputs": [
        {
          "output_type": "display_data",
          "data": {
            "image/png": "[encoded data removed]",
            "text/plain": [
              "<Figure size 432x288 with 1 Axes>"
            ]
          },
          "metadata": {
            "tags": [],
            "needs_background": "light"
          }
        }
      ]
    },
    {
      "cell_type": "code",
      "metadata": {
        "colab": {
          "base_uri": "https://localhost:8080/"
        },
        "id": "9Fb6rI0FHY5k",
        "outputId": "a235e93e-c49e-4047-8cbf-ce0d75058366"
      },
      "source": [
        "#ajouter des couches dropout\r\n",
        "#j'ai ajouté 2 couches dropout apres chaque couche fully_connectd\r\n",
        "drop_model = models.Sequential()\r\n",
        "drop_model.add(layers.Dense(64,activation='relu', input_shape=(NB_WORDS,)))\r\n",
        "drop_model.add(layers.Dropout(0.5))#50% des neuronnes vont fonctionnés, et 50% non\r\n",
        "drop_model.add(layers.Dense(64, activation='relu'))\r\n",
        "drop_model.add(layers.Dropout(0.5))\r\n",
        "drop_model.add(layers.Dense(3, activation='softmax'))\r\n",
        "drop_model._name = \"Dropout_layers_model\"\r\n",
        "drop_model.summary()"
      ],
      "execution_count": 37,
      "outputs": [
        {
          "output_type": "stream",
          "text": [
            "Model: \"Dropout_layers_model\"\n",
            "_________________________________________________________________\n",
            "Layer (type)                 Output Shape              Param #   \n",
            "=================================================================\n",
            "dense_11 (Dense)             (None, 64)                640064    \n",
            "_________________________________________________________________\n",
            "dropout_2 (Dropout)          (None, 64)                0         \n",
            "_________________________________________________________________\n",
            "dense_12 (Dense)             (None, 64)                4160      \n",
            "_________________________________________________________________\n",
            "dropout_3 (Dropout)          (None, 64)                0         \n",
            "_________________________________________________________________\n",
            "dense_13 (Dense)             (None, 3)                 195       \n",
            "=================================================================\n",
            "Total params: 644,419\n",
            "Trainable params: 644,419\n",
            "Non-trainable params: 0\n",
            "_________________________________________________________________\n"
          ],
          "name": "stdout"
        }
      ]
    },
    {
      "cell_type": "code",
      "metadata": {
        "colab": {
          "base_uri": "https://localhost:8080/"
        },
        "id": "R009g9BmHZ4S",
        "outputId": "095e3298-cbf2-4108-dce6-aec311c99566"
      },
      "source": [
        "drop_hitory = deep_model(drop_model, x_train_rest, y_train_rest, x_valid, y_valid)\r\n",
        "drop_epoch_min  = optimal_epochs(drop_hitory)"
      ],
      "execution_count": 38,
      "outputs": [
        {
          "output_type": "stream",
          "text": [
            "l'epochs le plus optimale est : 6\n"
          ],
          "name": "stdout"
        }
      ]
    },
    {
      "cell_type": "code",
      "metadata": {
        "colab": {
          "base_uri": "https://localhost:8080/",
          "height": 295
        },
        "id": "Fjr7nHIuJMEB",
        "outputId": "7a695b67-5064-45c6-a334-056934902848"
      },
      "source": [
        "eval_metric(drop_model, drop_hitory, 'loss')\r\n",
        "#tjrs le probléme d sur apprentissage"
      ],
      "execution_count": 39,
      "outputs": [
        {
          "output_type": "display_data",
          "data": {
            "image/png": "[encoded data removed]",
            "text/plain": [
              "<Figure size 432x288 with 1 Axes>"
            ]
          },
          "metadata": {
            "tags": [],
            "needs_background": "light"
          }
        }
      ]
    },
    {
      "cell_type": "code",
      "metadata": {
        "colab": {
          "base_uri": "https://localhost:8080/",
          "height": 295
        },
        "id": "uxLhqZKqJMLp",
        "outputId": "2c65e0f2-ad60-4fdc-8876-eed74ab2e3c6"
      },
      "source": [
        "compare_models_by_metrics(base_model, drop_model, base_hitory, drop_hitory,'val_loss')"
      ],
      "execution_count": 40,
      "outputs": [
        {
          "output_type": "display_data",
          "data": {
            "image/png": "[encoded data removed]",
            "text/plain": [
              "<Figure size 432x288 with 1 Axes>"
            ]
          },
          "metadata": {
            "tags": [],
            "needs_background": "light"
          }
        }
      ]
    },
    {
      "cell_type": "code",
      "metadata": {
        "colab": {
          "base_uri": "https://localhost:8080/"
        },
        "id": "jlt-pdqbJMS6",
        "outputId": "cbbd8cc4-f72e-4020-9ef1-4a232148dda1"
      },
      "source": [
        "#entrainement sur les donnés complétes du train et évaluation sur les données de test\r\n",
        "test_model(base_model, x_train_oh, y_train_oh, x_test_oh, y_test_oh, base_epoch_min)"
      ],
      "execution_count": 44,
      "outputs": [
        {
          "output_type": "stream",
          "text": [
            "46/46 [==============================] - 0s 3ms/step - loss: 1.3044 - accuracy: 0.7589\n",
            "test accuracy : 75.89%\n"
          ],
          "name": "stdout"
        }
      ]
    },
    {
      "cell_type": "code",
      "metadata": {
        "colab": {
          "base_uri": "https://localhost:8080/"
        },
        "id": "TqiD-_M1JMVR",
        "outputId": "7d48c888-1169-42db-ea0e-6c80057026b9"
      },
      "source": [
        "test_model(reduced_model, x_train_oh, y_train_oh, x_test_oh, y_test_oh, reduced_epoch_min)"
      ],
      "execution_count": 45,
      "outputs": [
        {
          "output_type": "stream",
          "text": [
            "46/46 [==============================] - 0s 3ms/step - loss: 0.6007 - accuracy: 0.7937\n",
            "test accuracy : 79.37%\n"
          ],
          "name": "stdout"
        }
      ]
    },
    {
      "cell_type": "code",
      "metadata": {
        "colab": {
          "base_uri": "https://localhost:8080/"
        },
        "id": "XGTvYHrNJMY_",
        "outputId": "9669bc56-6873-4b6f-86c2-47bf273d77a0"
      },
      "source": [
        "test_model(regularized_model, x_train_oh, y_train_oh, x_test_oh, y_test_oh, regularized_epoch_min)"
      ],
      "execution_count": 46,
      "outputs": [
        {
          "output_type": "stream",
          "text": [
            "46/46 [==============================] - 0s 3ms/step - loss: 0.7085 - accuracy: 0.8005\n",
            "test accuracy : 80.05%\n"
          ],
          "name": "stdout"
        }
      ]
    },
    {
      "cell_type": "code",
      "metadata": {
        "colab": {
          "base_uri": "https://localhost:8080/"
        },
        "id": "tkyE_VeTLrfE",
        "outputId": "ee69b582-40f3-456c-fed7-9c7a43dcac72"
      },
      "source": [
        "test_model(drop_model, x_train_oh, y_train_oh, x_test_oh, y_test_oh, drop_epoch_min)\r\n"
      ],
      "execution_count": 47,
      "outputs": [
        {
          "output_type": "stream",
          "text": [
            "46/46 [==============================] - 0s 3ms/step - loss: 0.8334 - accuracy: 0.7951\n",
            "test accuracy : 79.51%\n"
          ],
          "name": "stdout"
        }
      ]
    }
  ]
}